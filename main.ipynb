{
 "cells": [
  {
   "cell_type": "code",
   "execution_count": 5,
   "id": "619c9573",
   "metadata": {},
   "outputs": [],
   "source": [
    "#Langchain anf LLM imports\n",
    "from langchain_openai import ChatOpenAI\n",
    "from langchain_groq import ChatGroq\n",
    "\n",
    "# Document Loading anf Vector store\n",
    "from langchain.document_loaders import PyPDFLoader\n",
    "from langchain.vectorstores import FAISS\n",
    "from langchain.text_splitter import RecursiveCharacterTextSplitter\n",
    "from langchain.embeddings import OpenAIEmbeddings \n",
    "\n",
    "# --- Prompting and Document Utilities ---\n",
    "from langchain.prompts import PromptTemplate\n",
    "from langchain.docstore.document import Document\n",
    "from langchain.chains.summarize import load_summarize_chain\n",
    "\n",
    "# --- Core and Output Parsers ---\n",
    "from langchain_core.pydantic_v1 import BaseModel, Field\n",
    "from langchain_core.output_parsers import JsonOutputParser\n",
    "from langchain_core.runnables.graph import MermaidDrawMethod\n",
    "\n",
    "# --- LangGraph for Workflow Graphs ---\n",
    "from langgraph.graph import END, StateGraph\n",
    "\n",
    "# --- Standard Library Imports ---\n",
    "from time import monotonic\n",
    "from dotenv import load_dotenv\n",
    "from pprint import pprint\n",
    "import os\n",
    "\n",
    "# --- Datasets and Typing ---\n",
    "from datasets import Dataset\n",
    "from typing_extensions import TypedDict\n",
    "from IPython.display import display, Image\n",
    "from typing import List, TypedDict\n"
   ]
  },
  {
   "cell_type": "code",
   "execution_count": 7,
   "id": "3e939d32",
   "metadata": {},
   "outputs": [],
   "source": [
    "# --- RAGAS Metrics for Evaluation ---\n",
    "from ragas import evaluate\n",
    "from ragas.metrics import (\n",
    "    answer_correctness,\n",
    "    faithfulness,\n",
    "    answer_relevancy,\n",
    "    context_recall,\n",
    "    answer_similarity\n",
    ")"
   ]
  },
  {
   "cell_type": "code",
   "execution_count": 18,
   "id": "7204dc72",
   "metadata": {},
   "outputs": [],
   "source": [
    "import langgraph\n",
    "from helper_functions import (\n",
    "    num_tokens_from_string,\n",
    "    replace_t_with_space,\n",
    "    replace_double_lines_with_one_line,\n",
    "    split_into_chapters,\n",
    "    analyse_metric_results,\n",
    "    escape_quotes,\n",
    "    text_wrap,\n",
    "    extract_book_quotes_as_documents\n",
    ")\n",
    "\n"
   ]
  },
  {
   "cell_type": "code",
   "execution_count": 10,
   "id": "efbbd7a6",
   "metadata": {},
   "outputs": [],
   "source": [
    "# --- Load environment variables (e.g., API keys) ---\n",
    "load_dotenv(override=True)\n",
    "\n",
    "# --- Set environment variable for debugging (optional) ---\n",
    "os.environ[\"PYDEVD_WARN_EVALUATION_TIMEOUT\"] = \"100000\""
   ]
  },
  {
   "cell_type": "code",
   "execution_count": 15,
   "id": "0f335f30",
   "metadata": {},
   "outputs": [],
   "source": [
    "# --- Set API Keys for OpenAI and Groq ---\n",
    "from dotenv import load_dotenv\n",
    "\n",
    "load_dotenv()\n",
    "# This line reads the .env file and loads those keys into your Python environment, so you can later access them\n",
    "os.environ[\"OPENAI_API_KEY\"] = os.getenv('OPENAI_API_KEY')\n",
    "groq_api_key = os.getenv('GROQ_API_KEY')\n"
   ]
  },
  {
   "cell_type": "code",
   "execution_count": null,
   "id": "49c46c29",
   "metadata": {},
   "outputs": [
    {
     "ename": "FileNotFoundError",
     "evalue": " File not found at: c:\\Users\\c34398b\\Documents\\HP_RAG_pipeline\\Harry_Potter_Book_1_The_Sorcerers_Stone.pdf",
     "output_type": "error",
     "traceback": [
      "\u001b[31m---------------------------------------------------------------------------\u001b[39m",
      "\u001b[31mFileNotFoundError\u001b[39m                         Traceback (most recent call last)",
      "\u001b[36mCell\u001b[39m\u001b[36m \u001b[39m\u001b[32mIn[27]\u001b[39m\u001b[32m, line 6\u001b[39m\n\u001b[32m      3\u001b[39m hp_pdf_path = \u001b[33m\"\u001b[39m\u001b[33mHarry_Potter_Book_1_The_Sorcerers_Stone.pdf\u001b[39m\u001b[33m\"\u001b[39m\n\u001b[32m      5\u001b[39m \u001b[38;5;28;01mif\u001b[39;00m \u001b[38;5;129;01mnot\u001b[39;00m os.path.isfile(hp_pdf_path):\n\u001b[32m----> \u001b[39m\u001b[32m6\u001b[39m     \u001b[38;5;28;01mraise\u001b[39;00m \u001b[38;5;167;01mFileNotFoundError\u001b[39;00m(\u001b[33mf\u001b[39m\u001b[33m\"\u001b[39m\u001b[33m File not found at: \u001b[39m\u001b[38;5;132;01m{\u001b[39;00mos.path.abspath(hp_pdf_path)\u001b[38;5;132;01m}\u001b[39;00m\u001b[33m\"\u001b[39m)\n\u001b[32m      7\u001b[39m \u001b[38;5;28;01melse\u001b[39;00m:\n\u001b[32m      8\u001b[39m     \u001b[38;5;28mprint\u001b[39m(\u001b[33mf\u001b[39m\u001b[33m\"\u001b[39m\u001b[33m File found at: \u001b[39m\u001b[38;5;132;01m{\u001b[39;00mos.path.abspath(hp_pdf_path)\u001b[38;5;132;01m}\u001b[39;00m\u001b[33m\"\u001b[39m)\n",
      "\u001b[31mFileNotFoundError\u001b[39m:  File not found at: c:\\Users\\c34398b\\Documents\\HP_RAG_pipeline\\Harry_Potter_Book_1_The_Sorcerers_Stone.pdf"
     ]
    }
   ],
   "source": [
    "import os\n",
    "\n",
    "hp_pdf_path = \"Harry_Potter_Book_1_The_Sorcerers_Stone.pdf\"\n",
    "\n",
    "if not os.path.isfile(hp_pdf_path):\n",
    "    raise FileNotFoundError(f\" File not found at: {os.path.abspath(hp_pdf_path)}\")\n",
    "else:\n",
    "    print(f\" File found at: {os.path.abspath(hp_pdf_path)}\")\n"
   ]
  },
  {
   "cell_type": "code",
   "execution_count": 25,
   "id": "750dd81a",
   "metadata": {},
   "outputs": [
    {
     "ename": "FileNotFoundError",
     "evalue": "[Errno 2] No such file or directory: 'Harry_Potter_Book_1_The_Sorcerers_Stone.pdf'",
     "output_type": "error",
     "traceback": [
      "\u001b[31m---------------------------------------------------------------------------\u001b[39m",
      "\u001b[31mFileNotFoundError\u001b[39m                         Traceback (most recent call last)",
      "\u001b[36mCell\u001b[39m\u001b[36m \u001b[39m\u001b[32mIn[25]\u001b[39m\u001b[32m, line 5\u001b[39m\n\u001b[32m      1\u001b[39m \u001b[38;5;66;03m# --- Split the PDF into chapters and preprocess the text ---\u001b[39;00m\n\u001b[32m      2\u001b[39m \n\u001b[32m      3\u001b[39m \u001b[38;5;66;03m# 1. Split the PDF into chapters using the provided helper function.\u001b[39;00m\n\u001b[32m      4\u001b[39m \u001b[38;5;66;03m#    This function takes the path to the PDF and returns a list of Document objects, each representing a chapter.\u001b[39;00m\n\u001b[32m----> \u001b[39m\u001b[32m5\u001b[39m chapters = \u001b[43msplit_into_chapters\u001b[49m\u001b[43m(\u001b[49m\u001b[43mhp_pdf_path\u001b[49m\u001b[43m)\u001b[49m\n\u001b[32m      7\u001b[39m \u001b[38;5;66;03m# 2. Clean up the text in each chapter by replacing unwanted characters (e.g., '\\t') with spaces.\u001b[39;00m\n\u001b[32m      8\u001b[39m \u001b[38;5;66;03m#    This ensures the text is consistent and easier to process downstream.\u001b[39;00m\n\u001b[32m      9\u001b[39m chapters = replace_t_with_space(chapters)\n",
      "\u001b[36mFile \u001b[39m\u001b[32mc:\\Users\\c34398b\\Documents\\HP_RAG_pipeline\\helper_functions.py:111\u001b[39m, in \u001b[36msplit_into_chapters\u001b[39m\u001b[34m(book_path)\u001b[39m\n\u001b[32m    100\u001b[39m \u001b[38;5;28;01mdef\u001b[39;00m\u001b[38;5;250m \u001b[39m\u001b[34msplit_into_chapters\u001b[39m(book_path):\n\u001b[32m    101\u001b[39m \u001b[38;5;250m    \u001b[39m\u001b[33;03m\"\"\"\u001b[39;00m\n\u001b[32m    102\u001b[39m \u001b[33;03m    Splits a PDF book into chapters based on chapter title patterns.\u001b[39;00m\n\u001b[32m    103\u001b[39m \n\u001b[32m   (...)\u001b[39m\u001b[32m    109\u001b[39m \u001b[33;03m              text content and chapter number metadata.\u001b[39;00m\n\u001b[32m    110\u001b[39m \u001b[33;03m    \"\"\"\u001b[39;00m\n\u001b[32m--> \u001b[39m\u001b[32m111\u001b[39m     \u001b[38;5;28;01mwith\u001b[39;00m \u001b[38;5;28;43mopen\u001b[39;49m\u001b[43m(\u001b[49m\u001b[43mbook_path\u001b[49m\u001b[43m,\u001b[49m\u001b[43m \u001b[49m\u001b[33;43m'\u001b[39;49m\u001b[33;43mrb\u001b[39;49m\u001b[33;43m'\u001b[39;49m\u001b[43m)\u001b[49m \u001b[38;5;28;01mas\u001b[39;00m pdf_file:\n\u001b[32m    112\u001b[39m         pdf_reader = PyPDF2.PdfReader(pdf_file)\n\u001b[32m    113\u001b[39m         documents = pdf_reader.pages\n",
      "\u001b[31mFileNotFoundError\u001b[39m: [Errno 2] No such file or directory: 'Harry_Potter_Book_1_The_Sorcerers_Stone.pdf'"
     ]
    }
   ],
   "source": [
    "# --- Split the PDF into chapters and preprocess the text ---\n",
    "\n",
    "# 1. Split the PDF into chapters using the provided helper function.\n",
    "#    This function takes the path to the PDF and returns a list of Document objects, each representing a chapter.\n",
    "chapters = split_into_chapters(hp_pdf_path)\n",
    "\n",
    "# 2. Clean up the text in each chapter by replacing unwanted characters (e.g., '\\t') with spaces.\n",
    "#    This ensures the text is consistent and easier to process downstream.\n",
    "chapters = replace_t_with_space(chapters)\n",
    "\n",
    "# 3. Print the number of chapters extracted to verify the result.\n",
    "print(len(chapters))"
   ]
  }
 ],
 "metadata": {
  "kernelspec": {
   "display_name": "rag_env (3.13.5)",
   "language": "python",
   "name": "python3"
  },
  "language_info": {
   "codemirror_mode": {
    "name": "ipython",
    "version": 3
   },
   "file_extension": ".py",
   "mimetype": "text/x-python",
   "name": "python",
   "nbconvert_exporter": "python",
   "pygments_lexer": "ipython3",
   "version": "3.13.5"
  }
 },
 "nbformat": 4,
 "nbformat_minor": 5
}
